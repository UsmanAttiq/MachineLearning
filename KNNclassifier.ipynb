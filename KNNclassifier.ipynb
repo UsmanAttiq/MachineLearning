{
 "cells": [
  {
   "cell_type": "code",
   "execution_count": 1,
   "metadata": {},
   "outputs": [],
   "source": [
    "#IMPORTING NECESSARY LIBRARIES\n",
    "\n",
    "import matplotlib.pyplot as plt\n",
    "import numpy as np\n",
    "import pandas as pd\n",
    "import math\n",
    "import matplotlib.pyplot as plt\n",
    "from sklearn import datasets,linear_model,preprocessing\n",
    "from sklearn.model_selection import train_test_split\n",
    "%matplotlib inline"
   ]
  },
  {
   "cell_type": "code",
   "execution_count": 2,
   "metadata": {},
   "outputs": [],
   "source": [
    "#DISTANCE FUNCTION\n",
    "\n",
    "def Distance(train,test):\n",
    "    dist=0\n",
    "    for i in range(len(train)):\n",
    "        dist += pow((train[i]-test[i]),2)\n",
    "    return math.sqrt(dist)"
   ]
  },
  {
   "cell_type": "code",
   "execution_count": 3,
   "metadata": {},
   "outputs": [],
   "source": [
    "#KNN FUNCTION\n",
    "def knn(train,trainL,testP,k):\n",
    "    dist=np.zeros(shape=(120,2))\n",
    "    N=np.zeros(shape=(k,1))\n",
    "    for x in range(len(train)):\n",
    "        dist[x,0]=Distance(train[x,:],testP)\n",
    "        dist[x,1]=trainL[x]\n",
    "    dist=dist[dist[:,0].argsort()]\n",
    "    for x in range(k):\n",
    "        N[x]=int(dist[x,1])\n",
    "    Pclass=np.array([[0,0],[1,0],[2,0]])\n",
    "    for x in range(k):\n",
    "        if(N[x]==1):\n",
    "            Pclass[1,1]=Pclass[1,1]+1;\n",
    "        elif(N[x]==0):\n",
    "            Pclass[0,1]=Pclass[0,1]+1;\n",
    "        elif(N[x]==2):\n",
    "            Pclass[2,1]=Pclass[2,1]+1;\n",
    "    Pclass=Pclass[Pclass[:,1].argsort()]\n",
    "    return Pclass[-1,0]\n"
   ]
  },
  {
   "cell_type": "code",
   "execution_count": 4,
   "metadata": {},
   "outputs": [],
   "source": [
    "#ACCURACY FUNCTION\n",
    "def Accuracy(Result,Actual):\n",
    "    hit=0\n",
    "    for x in range(len(Actual)):\n",
    "        if Result[x]==Actual[x]:\n",
    "            hit+=1\n",
    "    hit=(hit/float(len(Result)))*100\n",
    "    return hit"
   ]
  },
  {
   "cell_type": "code",
   "execution_count": 19,
   "metadata": {},
   "outputs": [],
   "source": [
    "#ACCURACY AND K GRAPH PLOT FUNCTION\n",
    "def PlotKA(kv,acc):\n",
    "    fig=plt.figure()\n",
    "    plt.style.use('ggplot')\n",
    "    plt.plot(kv,acc,label='K value and Accuracy Graph')\n",
    "    fig.suptitle('K Value and Accuracy Graph')\n",
    "    plt.xlabel('K Value')\n",
    "    plt.ylabel('Accuracy')\n",
    "    return"
   ]
  },
  {
   "cell_type": "code",
   "execution_count": 20,
   "metadata": {},
   "outputs": [],
   "source": [
    "#NORMALIZE DATA FUNCTION\n",
    "def normal(ir_f):\n",
    "    ir_f=(ir_f-ir_f.min())/(ir_f.max()-ir_f.min())\n",
    "    return ir_f"
   ]
  },
  {
   "cell_type": "code",
   "execution_count": 21,
   "metadata": {},
   "outputs": [],
   "source": [
    "#STANDARDIZE DATA FUNCTION\n",
    "def standard(ir_f):\n",
    "    ir_f=(ir_f-ir_f.mean())/ir_f.std()\n",
    "    return ir_f"
   ]
  },
  {
   "cell_type": "code",
   "execution_count": 22,
   "metadata": {},
   "outputs": [],
   "source": [
    "#LOADING THE DATASET \n",
    "\n",
    "iris=datasets.load_iris()\n",
    "iris_D=iris.data\n",
    "ir_f=pd.DataFrame(iris_D)\n",
    "\n"
   ]
  },
  {
   "cell_type": "code",
   "execution_count": 55,
   "metadata": {},
   "outputs": [
    {
     "name": "stdout",
     "output_type": "stream",
     "text": [
      "Enter for the type of data:\n",
      "1. Normalized \n",
      "2. Standardized\n",
      "3. Default\n",
      "2\n"
     ]
    }
   ],
   "source": [
    "#NORMALIZE/STANDARDIZE DATA AND SPLITTING INTO TRAIN AND TEST DATA\n",
    "\n",
    "menu=input('Enter for the type of data:\\n1. Normalized \\n2. Standardized\\n3. Default\\n')\n",
    "if(menu==1):\n",
    "    ir_f=normal(ir_f)\n",
    "elif(menu==2):\n",
    "    ir_f=standard(ir_f)\n",
    "ir_f.columns=iris.feature_names\n",
    "ir_t=iris.target_names\n",
    "\n",
    "y=iris.target\n",
    "X_train, X_test, y_train, y_test = train_test_split(ir_f, y, test_size=0.2)\n",
    "X_train=X_train.values\n",
    "X_test=X_test.values"
   ]
  },
  {
   "cell_type": "code",
   "execution_count": null,
   "metadata": {},
   "outputs": [],
   "source": [
    "#MAIN\n",
    "kv=[1,2,3,4,5,6,7,8,9,10]\n",
    "acc=[]\n",
    "act=['Setosa','Versicolor','Virginica']\n",
    "for i in range(len(kv)):\n",
    "    TestRes=[]\n",
    "    for x in range(len(X_test)):\n",
    "        result=knn(X_train,y_train,X_test[x,:],kv[i])\n",
    "        TestRes.append(result)\n",
    "        if(result==1):\n",
    "            result='Versicolor'\n",
    "        elif(result==0):\n",
    "            result='Setosa'\n",
    "        elif(result==2):\n",
    "            result='Virginica'\n",
    "        #print('The result is: '+result+' actual is: '+act[y_test[x]])\n",
    "    acc.append(Accuracy(TestRes,y_test))\n",
    "PlotKA(kv,acc)  \n",
    "\n",
    "    "
   ]
  },
  {
   "cell_type": "code",
   "execution_count": null,
   "metadata": {},
   "outputs": [],
   "source": []
  }
 ],
 "metadata": {
  "kernelspec": {
   "display_name": "Python 2",
   "language": "python",
   "name": "python2"
  },
  "language_info": {
   "codemirror_mode": {
    "name": "ipython",
    "version": 2
   },
   "file_extension": ".py",
   "mimetype": "text/x-python",
   "name": "python",
   "nbconvert_exporter": "python",
   "pygments_lexer": "ipython2",
   "version": "2.7.15"
  }
 },
 "nbformat": 4,
 "nbformat_minor": 2
}
